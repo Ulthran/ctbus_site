{
 "cells": [
  {
   "cell_type": "code",
   "execution_count": null,
   "id": "01cc97b4",
   "metadata": {
    "vscode": {
     "languageId": "plaintext"
    }
   },
   "outputs": [],
   "source": [
    "import pyodide_kernel\n",
    "pyodide_kernel.__version__"
   ]
  },
  {
   "cell_type": "code",
   "execution_count": null,
   "id": "619ede4b",
   "metadata": {
    "vscode": {
     "languageId": "plaintext"
    }
   },
   "outputs": [],
   "source": [
    "import micropip\n",
    "await micropip.install(\"https://jupyter.charliebushman.com/extensions/@jupyterlite/pyodide-kernel-extension/static/pypi/snakemake-7.32.4-py3-none-any.whl\", keep_going=True)\n",
    "\n",
    "import snakemake\n",
    "from pathlib import Path\n",
    "\n",
    "snakemake.__version__"
   ]
  },
  {
   "cell_type": "code",
   "execution_count": null,
   "id": "0e7c433e",
   "metadata": {
    "vscode": {
     "languageId": "plaintext"
    }
   },
   "outputs": [],
   "source": [
    "import concurrent.futures as _cf\n",
    "\n",
    "class _InlineFuture:\n",
    "    def __init__(self, result=None, exc=None):\n",
    "        self._result, self._exc = result, exc\n",
    "    def result(self, timeout=None):\n",
    "        if self._exc: raise self._exc\n",
    "        return self._result\n",
    "    def done(self): return True\n",
    "    def cancelled(self): return False\n",
    "    def cancel(self): return False\n",
    "    def add_done_callback(self, fn): fn(self)\n",
    "\n",
    "class _InlineExecutor:\n",
    "    def __init__(self, max_workers=None, *a, **k): pass\n",
    "    def submit(self, fn, *a, **k):\n",
    "        try:\n",
    "            return _InlineFuture(fn(*a, **k))\n",
    "        except BaseException as e:\n",
    "            return _InlineFuture(exc=e)\n",
    "    def shutdown(self, wait=True, cancel_futures=False): pass\n",
    "    def map(self, func, *iterables, timeout=None, chunksize=1):\n",
    "        for args in zip(*iterables):\n",
    "            yield func(*args)\n",
    "\n",
    "_cf.ThreadPoolExecutor = _InlineExecutor"
   ]
  },
  {
   "cell_type": "code",
   "execution_count": null,
   "id": "70ad5287",
   "metadata": {
    "vscode": {
     "languageId": "plaintext"
    }
   },
   "outputs": [],
   "source": [
    "from snakemake import snakemake as run\n",
    "\n",
    "run(\n",
    "    snakefile=\"Snakefile\",\n",
    "    cores=1,\n",
    "    dryrun=False,\n",
    ")"
   ]
  }
 ],
 "metadata": {
  "language_info": {
   "name": "python"
  }
 },
 "nbformat": 4,
 "nbformat_minor": 5
}
