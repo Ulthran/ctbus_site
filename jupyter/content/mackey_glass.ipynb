{
 "cells": [
  {
   "cell_type": "code",
   "execution_count": null,
   "id": "01cc97b4",
   "metadata": {
    "vscode": {
     "languageId": "plaintext"
    }
   },
   "outputs": [],
   "source": [
    "import pyodide_kernel\n",
    "pyodide_kernel.__version__"
   ]
  },
  {
   "cell_type": "code",
   "execution_count": null,
   "id": "39d5a857",
   "metadata": {
    "vscode": {
     "languageId": "plaintext"
    }
   },
   "outputs": [],
   "source": []
  }
 ],
 "metadata": {
  "language_info": {
   "name": "python"
  }
 },
 "nbformat": 4,
 "nbformat_minor": 5
}
