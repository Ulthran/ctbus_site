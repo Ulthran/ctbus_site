{
 "cells": [
  {
   "cell_type": "code",
   "execution_count": null,
   "id": "01cc97b4",
   "metadata": {
    "vscode": {
     "languageId": "plaintext"
    }
   },
   "outputs": [],
   "source": [
    "import pyodide_kernel\n",
    "pyodide_kernel.__version__"
   ]
  },
  {
   "cell_type": "code",
   "execution_count": null,
   "id": "619ede4b",
   "metadata": {
    "vscode": {
     "languageId": "plaintext"
    }
   },
   "outputs": [],
   "source": [
    "import snakemake\n",
    "snakemake.__version__"
   ]
  },
  {
   "cell_type": "code",
   "execution_count": null,
   "id": "70ad5287",
   "metadata": {
    "vscode": {
     "languageId": "plaintext"
    }
   },
   "outputs": [],
   "source": [
    "%%bash\n",
    "\n",
    "snakemake --version\n",
    "snakemake --snakefile Snakefile --cores 1 -n"
   ]
  }
 ],
 "metadata": {
  "language_info": {
   "name": "python"
  }
 },
 "nbformat": 4,
 "nbformat_minor": 5
}
