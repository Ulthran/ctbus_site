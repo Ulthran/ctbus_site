{
 "cells": [
  {
   "cell_type": "code",
   "execution_count": null,
   "id": "40ee02b5",
   "metadata": {},
   "outputs": [],
   "source": [
    "import matplotlib.pyplot as plt\n",
    "import numpy as np\n",
    "import pandas as pd\n",
    "import sympy as sp\n",
    "from scipy.optimize import curve_fit"
   ]
  },
  {
   "cell_type": "code",
   "execution_count": 2,
   "id": "4a34158a",
   "metadata": {},
   "outputs": [],
   "source": [
    "def delta_Q(f, p, delta):\n",
    "    \"\"\"\n",
    "    f: sympy expression\n",
    "    p: list of sympy symbols (parameters)\n",
    "    delta: list of uncertainties (numbers or sympy expressions)\n",
    "    Returns: propagated uncertainty (symbolic or numeric)\n",
    "    \"\"\"\n",
    "    terms = [(sp.diff(f, p_i) * delta_i)**2 for p_i, delta_i in zip(p, delta)]\n",
    "    return sp.sqrt(sum(terms))"
   ]
  },
  {
   "cell_type": "code",
   "execution_count": 3,
   "id": "8a6db262",
   "metadata": {},
   "outputs": [
    {
     "name": "stdout",
     "output_type": "stream",
     "text": [
      "Proportionality constant: 8.888889e-03 ± 5.489247e-02 V/T\n"
     ]
    },
    {
     "data": {
      "image/png": "[encoded data removed]",
      "text/plain": [
       "<Figure size 640x480 with 1 Axes>"
      ]
     },
     "metadata": {},
     "output_type": "display_data"
    }
   ],
   "source": [
    "# Example Hall voltage data (replace with actual values if available)\n",
    "hall_voltages = np.array([0.012, 0.011, 0.010, 0.009, 0.008, 0.007, 0.006, 0.005])  # Example values\n",
    "magnetic_fields = np.array([1.18, 1.06, 0.960, 0.840, 0.720, 0.620, 0.520, 0.380])\n",
    "\n",
    "delta1 = np.array([0.04,0.02,0.02,0.02,0.02,0.02,0.02,0.02])\n",
    "delta2 = np.array([0.04,0.04,0.04,0.04,0.04,0.04,0.04,0.04])\n",
    "\n",
    "# Linear fit: Hall voltage vs. magnetic field\n",
    "def linear(x, m, b):\n",
    "    return m * x + b\n",
    "\n",
    "popt, pcov = curve_fit(linear, magnetic_fields, hall_voltages, sigma=delta2, absolute_sigma=True)\n",
    "slope, intercept = popt\n",
    "slope_err = np.sqrt(pcov[0,0])\n",
    "\n",
    "print(f\"Proportionality constant: {slope:.6e} ± {slope_err:.6e} V/T\")\n",
    "\n",
    "# Plot with error bars\n",
    "plt.errorbar(magnetic_fields, hall_voltages, xerr=delta1, yerr=delta2, fmt='o', label='Data')\n",
    "xfit = np.linspace(0, 2, 100)\n",
    "plt.plot(xfit, linear(xfit, *popt), label='Linear fit')\n",
    "plt.xlabel('Magnetic Field (T)')\n",
    "plt.ylabel('Hall Voltage (V)')\n",
    "plt.legend()\n",
    "plt.show()"
   ]
  },
  {
   "cell_type": "markdown",
   "id": "cbaa7ddd",
   "metadata": {},
   "source": [
    "## Electric Fields of Various Electrode Geometries"
   ]
  },
  {
   "cell_type": "code",
   "execution_count": null,
   "id": "65812dc9",
   "metadata": {},
   "outputs": [
    {
     "name": "stdout",
     "output_type": "stream",
     "text": [
      "     Charge (C)  Voltage (V)\n",
      "0  8.096000e-11        7.360\n",
      "1  5.520000e-11        5.040\n",
      "2  3.680000e-11        3.360\n",
      "3  1.840000e-11        1.880\n",
      "4  7.360000e-12        0.728\n",
      "5  3.680000e-12        0.396\n"
     ]
    }
   ],
   "source": [
    "capFxnVoltAmpfVolt = [\n",
    "    [22e-12, 3.68, 7.36],\n",
    "    [15e-12, 3.68, 5.04],\n",
    "    [10e-12, 3.68, 3.36],\n",
    "    [5e-12, 3.68, 1.88],\n",
    "    [2e-12, 3.68, 0.728],\n",
    "    [1e-12, 3.68, 0.396]\n",
    "]\n",
    "\n",
    "# Calculate charge and corresponding voltage\n",
    "chrgAmpfVolt = [[row[0] * row[1], row[2]] for row in capFxnVoltAmpfVolt]\n",
    "\n",
    "# Display as a table\n",
    "df_chrgAmpfVolt = pd.DataFrame(chrgAmpfVolt, columns=['Charge (C)', 'Voltage (V)'])\n",
    "print(df_chrgAmpfVolt)\n"
   ]
  }
 ],
 "metadata": {
  "kernelspec": {
   "display_name": "base",
   "language": "python",
   "name": "python3"
  },
  "language_info": {
   "codemirror_mode": {
    "name": "ipython",
    "version": 3
   },
   "file_extension": ".py",
   "mimetype": "text/x-python",
   "name": "python",
   "nbconvert_exporter": "python",
   "pygments_lexer": "ipython3",
   "version": "3.11.5"
  }
 },
 "nbformat": 4,
 "nbformat_minor": 5
}
